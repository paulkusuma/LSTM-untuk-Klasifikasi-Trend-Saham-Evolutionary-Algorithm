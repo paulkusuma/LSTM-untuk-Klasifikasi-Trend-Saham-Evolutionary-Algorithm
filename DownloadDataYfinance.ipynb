{
 "cells": [
  {
   "cell_type": "code",
   "execution_count": null,
   "id": "4d1d6f08-a051-46a0-9db0-075427f11465",
   "metadata": {},
   "outputs": [],
   "source": [
    "import yfinance as yf\n",
    "import pandas as pd\n",
    "\n",
    "ticker = 'USDJPY=X'  # bisa diganti sesuai kebutuhanmu\n",
    "df = yf.download(ticker, start='2020-01-01', end='2025-04-01', interval='1d')\n",
    "df = df[['Open', 'High', 'Low', 'Close']].dropna()\n",
    "df.index.name = 'Date'\n",
    "df = df.asfreq('D')\n",
    "df = df.ffill()\n",
    "\n",
    "df.to_csv('USDJPY_Full.csv')\n",
    "print(df.head())\n"
   ]
  }
 ],
 "metadata": {
  "kernelspec": {
   "display_name": "Python 3 (ipykernel)",
   "language": "python",
   "name": "python3"
  },
  "language_info": {
   "codemirror_mode": {
    "name": "ipython",
    "version": 3
   },
   "file_extension": ".py",
   "mimetype": "text/x-python",
   "name": "python",
   "nbconvert_exporter": "python",
   "pygments_lexer": "ipython3",
   "version": "3.10.10"
  }
 },
 "nbformat": 4,
 "nbformat_minor": 5
}
