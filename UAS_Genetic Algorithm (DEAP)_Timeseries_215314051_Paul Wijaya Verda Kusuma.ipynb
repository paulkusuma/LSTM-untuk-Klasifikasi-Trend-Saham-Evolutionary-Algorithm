{
 "cells": [
  {
   "cell_type": "markdown",
   "id": "92e7fd16-f56f-42f4-8701-528bc94af452",
   "metadata": {},
   "source": [
    "# UJIAN AKHIR SEMESTER \n",
    "## TIMESERIES\n",
    "\n",
    "### NAMA : Paul Wijaya Verda Kusuma\n",
    "### NIM  : 215314051\n",
    "\n",
    "### LSTM untuk Klasifikasi Trend Saham Evolutionary Algorithm"
   ]
  },
  {
   "cell_type": "code",
   "execution_count": 1,
   "id": "6d8e883f-e2aa-4f0a-bc7d-ed5c5fb099bf",
   "metadata": {},
   "outputs": [],
   "source": [
    "import numpy as np\n",
    "import pandas as pd\n",
    "from tensorflow.keras.models import Sequential\n",
    "from tensorflow.keras.layers import LSTM, Dense\n",
    "from tensorflow.keras.optimizers import Adam, RMSprop\n",
    "from sklearn.preprocessing import MinMaxScaler\n",
    "from sklearn.metrics import accuracy_score\n",
    "from tensorflow.keras.utils import to_categorical\n",
    "\n",
    "import random\n",
    "from deap import base, creator, tools, algorithms"
   ]
  },
  {
   "cell_type": "code",
   "execution_count": 2,
   "id": "cd199f61-3bd3-42c0-b65c-fa07e09f3c15",
   "metadata": {},
   "outputs": [],
   "source": [
    "# ===========================\n",
    "# 1. Load dan preprocess data\n",
    "# ===========================\n",
    "df = pd.read_csv('usd_idr_preprocessed.csv', parse_dates=['Date'], index_col='Date')\n",
    "data = df['Close'].values.reshape(-1,1)\n",
    "\n",
    "scaler = MinMaxScaler()\n",
    "data_scaled = scaler.fit_transform(data)\n",
    "\n",
    "window_size = 20\n"
   ]
  },
  {
   "cell_type": "code",
   "execution_count": 3,
   "id": "a11db06e-ecfa-45ec-8389-6cbd559b4f69",
   "metadata": {},
   "outputs": [],
   "source": [
    "# ===========================\n",
    "# 2. Buat label naik/turun/stasioner\n",
    "# threshold sebagai contoh (bisa di-tuning juga)\n",
    "# ===========================\n",
    "threshold = 0.0005  # contoh batas kecil untuk stasioner\n",
    "\n",
    "def create_dataset_labels(dataset, window_size=20):\n",
    "    X, y = [], []\n",
    "    for i in range(len(dataset) - window_size - 1):\n",
    "        X.append(dataset[i:i+window_size])\n",
    "        diff = dataset[i+window_size+1] - dataset[i+window_size]\n",
    "        if diff > threshold:\n",
    "            y.append(2)  # naik\n",
    "        elif diff < -threshold:\n",
    "            y.append(0)  # turun\n",
    "        else:\n",
    "            y.append(1)  # stasioner\n",
    "    return np.array(X), np.array(y)\n",
    "\n",
    "X, y = create_dataset_labels(data_scaled, window_size)\n",
    "\n"
   ]
  },
  {
   "cell_type": "code",
   "execution_count": 4,
   "id": "0358c016-d7b0-4090-8803-d2b07072dd74",
   "metadata": {},
   "outputs": [],
   "source": [
    "# One-hot encoding untuk klasifikasi\n",
    "y_cat = to_categorical(y, num_classes=3)\n",
    "\n",
    "# Split train-test\n",
    "split_idx = int(len(X)*0.8)\n",
    "X_train, X_test = X[:split_idx], X[split_idx:]\n",
    "y_train, y_test = y_cat[:split_idx], y_cat[split_idx:]\n",
    "\n",
    "X_train = X_train.reshape((X_train.shape[0], window_size, 1))\n",
    "X_test = X_test.reshape((X_test.shape[0], window_size, 1))"
   ]
  },
  {
   "cell_type": "code",
   "execution_count": 5,
   "id": "d1dae4bf-01f6-4211-b358-6885af2a1440",
   "metadata": {},
   "outputs": [],
   "source": [
    "# ===========================\n",
    "# 3. Definisi fungsi model\n",
    "# ===========================\n",
    "def create_model(units, optimizer_name, lr):\n",
    "    model = Sequential()\n",
    "    model.add(LSTM(units, activation='relu', input_shape=(window_size,1)))\n",
    "    model.add(Dense(3, activation='softmax'))  # 3 kelas\n",
    "    if optimizer_name == 'adam':\n",
    "        optimizer = Adam(learning_rate=lr)\n",
    "    else:\n",
    "        optimizer = RMSprop(learning_rate=lr)\n",
    "    model.compile(loss='categorical_crossentropy', optimizer=optimizer, metrics=['accuracy'])\n",
    "    return model\n"
   ]
  },
  {
   "cell_type": "code",
   "execution_count": 6,
   "id": "86b2a738-f91b-47e9-918d-c35f99ba3476",
   "metadata": {},
   "outputs": [],
   "source": [
    "# ===========================\n",
    "# 4. Definisi evaluasi fitness GA\n",
    "# ===========================\n",
    "def eval_fitness(individual):\n",
    "    units, optimizer_idx, lr_exp, epochs = individual\n",
    "    optimizer_name = ['adam', 'rmsprop'][optimizer_idx]\n",
    "    lr = 10**(-lr_exp)  # log scale learning rate\n",
    "\n",
    "    model = create_model(units, optimizer_name, lr)\n",
    "\n",
    "    history = model.fit(\n",
    "        X_train, y_train,\n",
    "        epochs=epochs,\n",
    "        batch_size=16,\n",
    "        verbose=0,\n",
    "        validation_data=(X_test, y_test)\n",
    "    )\n",
    "\n",
    "    # Pakai akurasi validasi terakhir sebagai fitness\n",
    "    accuracy = history.history['val_accuracy'][-1]\n",
    "    return accuracy,\n"
   ]
  },
  {
   "cell_type": "code",
   "execution_count": 7,
   "id": "70670db8-bea0-4fc1-bf35-391323112d99",
   "metadata": {},
   "outputs": [],
   "source": [
    "# ===========================\n",
    "# 5. Setup GA dengan DEAP\n",
    "# ===========================\n",
    "\n",
    "creator.create(\"FitnessMax\", base.Fitness, weights=(1.0,))  # maximize accuracy\n",
    "creator.create(\"Individual\", list, fitness=creator.FitnessMax)\n",
    "\n",
    "toolbox = base.Toolbox()\n",
    "\n",
    "# Parameter space\n",
    "# units: 10 sampai 100\n",
    "# optimizer_idx: 0 atau 1\n",
    "# lr_exp: 2 sampai 5 (learning rate = 10^-lr_exp)\n",
    "# epochs: 5 sampai 30\n",
    "\n",
    "toolbox.register(\"units\", random.randint, 10, 100)\n",
    "toolbox.register(\"optimizer_idx\", random.randint, 0, 1)\n",
    "toolbox.register(\"lr_exp\", random.randint, 2, 5)\n",
    "toolbox.register(\"epochs\", random.randint, 5, 30)\n",
    "\n",
    "toolbox.register(\"individual\", tools.initCycle, creator.Individual,\n",
    "                 (toolbox.units, toolbox.optimizer_idx, toolbox.lr_exp, toolbox.epochs), n=1)\n",
    "\n",
    "toolbox.register(\"population\", tools.initRepeat, list, toolbox.individual)\n",
    "\n",
    "toolbox.register(\"evaluate\", eval_fitness)\n",
    "toolbox.register(\"mate\", tools.cxTwoPoint)\n",
    "toolbox.register(\"mutate\", tools.mutUniformInt, low=[10,0,2,5], up=[100,1,5,30], indpb=0.2)\n",
    "toolbox.register(\"select\", tools.selTournament, tournsize=3)\n"
   ]
  },
  {
   "cell_type": "code",
   "execution_count": 8,
   "id": "7d808676-a11f-4e19-ae59-e0cd05a27e97",
   "metadata": {},
   "outputs": [
    {
     "name": "stdout",
     "output_type": "stream",
     "text": [
      "Generation 1\n"
     ]
    },
    {
     "name": "stderr",
     "output_type": "stream",
     "text": [
      "C:\\Users\\LENOVO\\AppData\\Local\\Programs\\Python\\Python310\\lib\\site-packages\\keras\\src\\layers\\rnn\\rnn.py:200: UserWarning: Do not pass an `input_shape`/`input_dim` argument to a layer. When using Sequential models, prefer using an `Input(shape)` object as the first layer in the model instead.\n",
      "  super().__init__(**kwargs)\n"
     ]
    },
    {
     "name": "stdout",
     "output_type": "stream",
     "text": [
      "Generation 2\n",
      "Generation 3\n",
      "Generation 4\n",
      "Generation 5\n"
     ]
    }
   ],
   "source": [
    "# ===========================\n",
    "# 6. Jalankan GA\n",
    "# ===========================\n",
    "population = toolbox.population(n=10)\n",
    "NGEN = 5\n",
    "for gen in range(NGEN):\n",
    "    print(f\"Generation {gen+1}\")\n",
    "\n",
    "    offspring = algorithms.varAnd(population, toolbox, cxpb=0.5, mutpb=0.2)\n",
    "    fits = toolbox.map(toolbox.evaluate, offspring)\n",
    "\n",
    "    for fit, ind in zip(fits, offspring):\n",
    "        ind.fitness.values = fit\n",
    "\n",
    "    population = toolbox.select(offspring, k=len(population))\n"
   ]
  },
  {
   "cell_type": "code",
   "execution_count": 9,
   "id": "9c91317f-b8a2-4941-a710-f255cfed38bb",
   "metadata": {},
   "outputs": [
    {
     "name": "stdout",
     "output_type": "stream",
     "text": [
      "Best individual hyperparameters:\n",
      "Units: 52, Optimizer: rmsprop, Learning Rate: 1e-05, Epochs: 17\n"
     ]
    }
   ],
   "source": [
    "# ===========================\n",
    "# 7. Ambil individu terbaik\n",
    "# ===========================\n",
    "best_ind = tools.selBest(population, k=1)[0]\n",
    "print(\"Best individual hyperparameters:\")\n",
    "print(f\"Units: {best_ind[0]}, Optimizer: {'adam' if best_ind[1]==0 else 'rmsprop'}, Learning Rate: {10**(-best_ind[2])}, Epochs: {best_ind[3]}\")\n"
   ]
  },
  {
   "cell_type": "code",
   "execution_count": 10,
   "id": "52a57db0-2caf-4421-a441-7c259f5b0c66",
   "metadata": {},
   "outputs": [
    {
     "name": "stdout",
     "output_type": "stream",
     "text": [
      "Epoch 1/17\n",
      "\u001b[1m77/77\u001b[0m \u001b[32m━━━━━━━━━━━━━━━━━━━━\u001b[0m\u001b[37m\u001b[0m \u001b[1m2s\u001b[0m 9ms/step - accuracy: 0.3526 - loss: 1.0986 \n",
      "Epoch 2/17\n",
      "\u001b[1m77/77\u001b[0m \u001b[32m━━━━━━━━━━━━━━━━━━━━\u001b[0m\u001b[37m\u001b[0m \u001b[1m1s\u001b[0m 8ms/step - accuracy: 0.3514 - loss: 1.0982 \n",
      "Epoch 3/17\n",
      "\u001b[1m77/77\u001b[0m \u001b[32m━━━━━━━━━━━━━━━━━━━━\u001b[0m\u001b[37m\u001b[0m \u001b[1m1s\u001b[0m 8ms/step - accuracy: 0.3304 - loss: 1.0986 \n",
      "Epoch 4/17\n",
      "\u001b[1m77/77\u001b[0m \u001b[32m━━━━━━━━━━━━━━━━━━━━\u001b[0m\u001b[37m\u001b[0m \u001b[1m1s\u001b[0m 8ms/step - accuracy: 0.3617 - loss: 1.0981 \n",
      "Epoch 5/17\n",
      "\u001b[1m77/77\u001b[0m \u001b[32m━━━━━━━━━━━━━━━━━━━━\u001b[0m\u001b[37m\u001b[0m \u001b[1m1s\u001b[0m 8ms/step - accuracy: 0.3359 - loss: 1.0983   \n",
      "Epoch 6/17\n",
      "\u001b[1m77/77\u001b[0m \u001b[32m━━━━━━━━━━━━━━━━━━━━\u001b[0m\u001b[37m\u001b[0m \u001b[1m1s\u001b[0m 8ms/step - accuracy: 0.3480 - loss: 1.0982 \n",
      "Epoch 7/17\n",
      "\u001b[1m77/77\u001b[0m \u001b[32m━━━━━━━━━━━━━━━━━━━━\u001b[0m\u001b[37m\u001b[0m \u001b[1m1s\u001b[0m 8ms/step - accuracy: 0.3455 - loss: 1.0979 \n",
      "Epoch 8/17\n",
      "\u001b[1m77/77\u001b[0m \u001b[32m━━━━━━━━━━━━━━━━━━━━\u001b[0m\u001b[37m\u001b[0m \u001b[1m1s\u001b[0m 8ms/step - accuracy: 0.3533 - loss: 1.0978 \n",
      "Epoch 9/17\n",
      "\u001b[1m77/77\u001b[0m \u001b[32m━━━━━━━━━━━━━━━━━━━━\u001b[0m\u001b[37m\u001b[0m \u001b[1m1s\u001b[0m 8ms/step - accuracy: 0.3487 - loss: 1.0975   \n",
      "Epoch 10/17\n",
      "\u001b[1m77/77\u001b[0m \u001b[32m━━━━━━━━━━━━━━━━━━━━\u001b[0m\u001b[37m\u001b[0m \u001b[1m1s\u001b[0m 8ms/step - accuracy: 0.3442 - loss: 1.0978 \n",
      "Epoch 11/17\n",
      "\u001b[1m77/77\u001b[0m \u001b[32m━━━━━━━━━━━━━━━━━━━━\u001b[0m\u001b[37m\u001b[0m \u001b[1m1s\u001b[0m 8ms/step - accuracy: 0.3522 - loss: 1.0970 \n",
      "Epoch 12/17\n",
      "\u001b[1m77/77\u001b[0m \u001b[32m━━━━━━━━━━━━━━━━━━━━\u001b[0m\u001b[37m\u001b[0m \u001b[1m1s\u001b[0m 8ms/step - accuracy: 0.3444 - loss: 1.0971 \n",
      "Epoch 13/17\n",
      "\u001b[1m77/77\u001b[0m \u001b[32m━━━━━━━━━━━━━━━━━━━━\u001b[0m\u001b[37m\u001b[0m \u001b[1m1s\u001b[0m 8ms/step - accuracy: 0.3456 - loss: 1.0979 \n",
      "Epoch 14/17\n",
      "\u001b[1m77/77\u001b[0m \u001b[32m━━━━━━━━━━━━━━━━━━━━\u001b[0m\u001b[37m\u001b[0m \u001b[1m1s\u001b[0m 8ms/step - accuracy: 0.3659 - loss: 1.0971 \n",
      "Epoch 15/17\n",
      "\u001b[1m77/77\u001b[0m \u001b[32m━━━━━━━━━━━━━━━━━━━━\u001b[0m\u001b[37m\u001b[0m \u001b[1m1s\u001b[0m 8ms/step - accuracy: 0.3361 - loss: 1.0972 \n",
      "Epoch 16/17\n",
      "\u001b[1m77/77\u001b[0m \u001b[32m━━━━━━━━━━━━━━━━━━━━\u001b[0m\u001b[37m\u001b[0m \u001b[1m1s\u001b[0m 8ms/step - accuracy: 0.3784 - loss: 1.0968 \n",
      "Epoch 17/17\n",
      "\u001b[1m77/77\u001b[0m \u001b[32m━━━━━━━━━━━━━━━━━━━━\u001b[0m\u001b[37m\u001b[0m \u001b[1m1s\u001b[0m 8ms/step - accuracy: 0.3587 - loss: 1.0968 \n",
      "Final Test Loss: 1.0980888605117798, Test Accuracy: 0.33006536960601807\n"
     ]
    }
   ],
   "source": [
    "\n",
    "# ===========================\n",
    "# 8. Train ulang model terbaik dan evaluasi final\n",
    "# ===========================\n",
    "best_model = create_model(best_ind[0], ['adam','rmsprop'][best_ind[1]], 10**(-best_ind[2]))\n",
    "history = best_model.fit(X_train, y_train, epochs=best_ind[3], batch_size=16, verbose=1)\n",
    "\n",
    "score = best_model.evaluate(X_test, y_test, verbose=0)\n",
    "print(f\"Final Test Loss: {score[0]}, Test Accuracy: {score[1]}\")\n"
   ]
  },
  {
   "cell_type": "code",
   "execution_count": null,
   "id": "7e2b659a-4b83-47e8-970d-cc351cae6f53",
   "metadata": {},
   "outputs": [],
   "source": []
  }
 ],
 "metadata": {
  "kernelspec": {
   "display_name": "Python 3 (ipykernel)",
   "language": "python",
   "name": "python3"
  },
  "language_info": {
   "codemirror_mode": {
    "name": "ipython",
    "version": 3
   },
   "file_extension": ".py",
   "mimetype": "text/x-python",
   "name": "python",
   "nbconvert_exporter": "python",
   "pygments_lexer": "ipython3",
   "version": "3.10.10"
  }
 },
 "nbformat": 4,
 "nbformat_minor": 5
}
