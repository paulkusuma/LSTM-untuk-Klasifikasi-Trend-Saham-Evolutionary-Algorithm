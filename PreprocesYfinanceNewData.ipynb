{
 "cells": [
  {
   "cell_type": "code",
   "execution_count": 2,
   "id": "f5190c63-93ed-4e9f-9935-4f9e2e4982f5",
   "metadata": {},
   "outputs": [
    {
     "name": "stdout",
     "output_type": "stream",
     "text": [
      "Original column names: ['Date', 'Unnamed: 1', 'Unnamed: 2', 'Unnamed: 3', 'Unnamed: 4']\n",
      "Preprocessed data saved to USDJPY_processed_data.csv\n"
     ]
    }
   ],
   "source": [
    "import pandas as pd\n",
    "\n",
    "def preprocess_and_save(input_file: str, output_file: str) -> None:\n",
    "    \"\"\"\n",
    "    Read raw dataset from input_file, preprocess to keep only\n",
    "    Date, Close, High, Low, Open columns, then save to output_file.\n",
    "    \"\"\"\n",
    "    # Load the data, skipping the first two rows\n",
    "    df = pd.read_csv(input_file, skiprows=2)\n",
    "    \n",
    "    # Print the original column names for debugging\n",
    "    print(\"Original column names:\", df.columns.tolist())\n",
    "    \n",
    "    # Manually set the column names\n",
    "    df.columns = ['Date', 'Close', 'High', 'Low', 'Open']\n",
    "    \n",
    "    # Strip whitespace from column names\n",
    "    df.columns = df.columns.str.strip()\n",
    "    \n",
    "    # Define columns to keep\n",
    "    columns_to_keep = ['Date', 'Close', 'High', 'Low', 'Open']\n",
    "    \n",
    "    # Check if all required columns exist\n",
    "    missing_cols = [col for col in columns_to_keep if col not in df.columns]\n",
    "    if missing_cols:\n",
    "        raise ValueError(f\"Missing columns in input data: {missing_cols}. Please check your input file.\")\n",
    "    \n",
    "    # Select only required columns\n",
    "    df_clean = df[columns_to_keep]\n",
    "    \n",
    "    # Save to CSV\n",
    "    df_clean.to_csv(output_file, index=False)\n",
    "    print(f\"Preprocessed data saved to {output_file}\")\n",
    "\n",
    "if __name__ == \"__main__\":\n",
    "    # Example usage:\n",
    "    input_csv = 'USDJPY_full.csv'    # replace with your actual input file path\n",
    "    output_csv = 'USDJPY_processed_data.csv'  # desired output file path\n",
    "    \n",
    "    preprocess_and_save(input_csv, output_csv)\n"
   ]
  },
  {
   "cell_type": "code",
   "execution_count": null,
   "id": "3959117e-3451-4af7-a462-575b8e3869d6",
   "metadata": {},
   "outputs": [],
   "source": []
  }
 ],
 "metadata": {
  "kernelspec": {
   "display_name": "Python 3 (ipykernel)",
   "language": "python",
   "name": "python3"
  },
  "language_info": {
   "codemirror_mode": {
    "name": "ipython",
    "version": 3
   },
   "file_extension": ".py",
   "mimetype": "text/x-python",
   "name": "python",
   "nbconvert_exporter": "python",
   "pygments_lexer": "ipython3",
   "version": "3.10.10"
  }
 },
 "nbformat": 4,
 "nbformat_minor": 5
}
