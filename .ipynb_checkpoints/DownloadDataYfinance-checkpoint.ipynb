{
 "cells": [
  {
   "cell_type": "markdown",
   "id": "c4c1eb21-9506-4107-b3e6-1ae30ef18420",
   "metadata": {},
   "source": [
    "### Mendownload data dari Yfinance"
   ]
  },
  {
   "cell_type": "code",
   "execution_count": 1,
   "id": "4d1d6f08-a051-46a0-9db0-075427f11465",
   "metadata": {},
   "outputs": [
    {
     "name": "stdout",
     "output_type": "stream",
     "text": [
      "YF.download() has changed argument auto_adjust default to True\n"
     ]
    },
    {
     "name": "stderr",
     "output_type": "stream",
     "text": [
      "[*********************100%***********************]  1 of 1 completed\n",
      "\n",
      "1 Failed download:\n",
      "['BTC-USD']: YFRateLimitError('Too Many Requests. Rate limited. Try after a while.')\n"
     ]
    },
    {
     "name": "stdout",
     "output_type": "stream",
     "text": [
      "Empty DataFrame\n",
      "Columns: [(Open, BTC-USD), (High, BTC-USD), (Low, BTC-USD), (Close, BTC-USD)]\n",
      "Index: []\n"
     ]
    }
   ],
   "source": [
    "import yfinance as yf\n",
    "import pandas as pd\n",
    "\n",
    "ticker = 'EURUSD=X'  # bisa diganti sesuai kebutuhanmu\n",
    "df = yf.download(ticker, start='2019-01-01', end='2025-04-01', interval='1d')\n",
    "df = df[['Open', 'High', 'Low', 'Close']].dropna()\n",
    "df.index.name = 'Date'\n",
    "df = df.asfreq('D')\n",
    "df = df.ffill()\n",
    "\n",
    "df.to_csv('EURUSD_Full.csv')\n",
    "print(df.head())\n"
   ]
  },
  {
   "cell_type": "code",
   "execution_count": null,
   "id": "d20254e4-f078-4acb-9853-ceb4a8d9bbb6",
   "metadata": {},
   "outputs": [],
   "source": []
  }
 ],
 "metadata": {
  "kernelspec": {
   "display_name": "Python 3 (ipykernel)",
   "language": "python",
   "name": "python3"
  },
  "language_info": {
   "codemirror_mode": {
    "name": "ipython",
    "version": 3
   },
   "file_extension": ".py",
   "mimetype": "text/x-python",
   "name": "python",
   "nbconvert_exporter": "python",
   "pygments_lexer": "ipython3",
   "version": "3.10.10"
  }
 },
 "nbformat": 4,
 "nbformat_minor": 5
}
