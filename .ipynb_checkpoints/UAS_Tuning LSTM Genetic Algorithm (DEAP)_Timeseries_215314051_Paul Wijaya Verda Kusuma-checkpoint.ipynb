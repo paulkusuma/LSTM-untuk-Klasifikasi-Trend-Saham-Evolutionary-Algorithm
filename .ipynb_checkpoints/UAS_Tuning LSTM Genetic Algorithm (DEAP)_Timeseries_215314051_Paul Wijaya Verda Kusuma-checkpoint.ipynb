{
 "cells": [
  {
   "cell_type": "markdown",
   "id": "92e7fd16-f56f-42f4-8701-528bc94af452",
   "metadata": {},
   "source": [
    "# UJIAN AKHIR SEMESTER \n",
    "## TIMESERIES\n",
    "\n",
    "### NAMA : Paul Wijaya Verda Kusuma\n",
    "### NIM  : 215314051\n",
    "\n",
    "### LSTM untuk Klasifikasi Trend Saham Evolutionary Algorithm"
   ]
  },
  {
   "cell_type": "code",
   "execution_count": 3,
   "id": "6d8e883f-e2aa-4f0a-bc7d-ed5c5fb099bf",
   "metadata": {},
   "outputs": [],
   "source": [
    "import numpy as np\n",
    "import pandas as pd\n",
    "import matplotlib.pyplot as plt\n",
    "\n",
    "from sklearn.preprocessing import MinMaxScaler\n",
    "from sklearn.metrics import classification_report, accuracy_score\n",
    "from sklearn.model_selection import train_test_split\n",
    "\n",
    "from tensorflow.keras.models import Sequential\n",
    "from tensorflow.keras.layers import LSTM, Dense\n",
    "from tensorflow.keras.utils import to_categorical\n",
    "\n",
    "import optuna\n",
    "from optuna.samplers import CmaEsSampler"
   ]
  },
  {
   "cell_type": "code",
   "execution_count": 4,
   "id": "cd199f61-3bd3-42c0-b65c-fa07e09f3c15",
   "metadata": {},
   "outputs": [],
   "source": [
    "# ==========================================\n",
    "# 1. Load dan siapkan data\n",
    "# ==========================================\n",
    "df = pd.read_csv('usd_idr_preprocessed.csv', parse_dates=['Date'], index_col='Date')\n",
    "data = df['Close'].values.reshape(-1, 1)\n",
    "\n",
    "# Normalisasi\n",
    "scaler = MinMaxScaler()\n",
    "data_scaled = scaler.fit_transform(data)\n"
   ]
  },
  {
   "cell_type": "code",
   "execution_count": 5,
   "id": "a11db06e-ecfa-45ec-8389-6cbd559b4f69",
   "metadata": {},
   "outputs": [],
   "source": [
    "# ==========================================\n",
    "# 2. Label: klasifikasi naik/turun/stasioner\n",
    "# ==========================================\n",
    "def label_trend(data, threshold=0.005):  # threshold = 0.5%\n",
    "    labels = []\n",
    "    for i in range(len(data) - 1):\n",
    "        change = (data[i + 1] - data[i]) / data[i]\n",
    "        if change > threshold:\n",
    "            labels.append(2)  # Naik\n",
    "        elif change < -threshold:\n",
    "            labels.append(0)  # Turun\n",
    "        else:\n",
    "            labels.append(1)  # Stasioner\n",
    "    return np.array(labels)\n",
    "\n",
    "labels = generate_labels(data_scaled)\n"
   ]
  },
  {
   "cell_type": "code",
   "execution_count": 6,
   "id": "0358c016-d7b0-4090-8803-d2b07072dd74",
   "metadata": {},
   "outputs": [],
   "source": [
    "# ==========================================\n",
    "# 3. Sliding window dataset\n",
    "# ==========================================\n",
    "def create_sliding_dataset(data, labels, window_size=20):\n",
    "    X, y = [], []\n",
    "    for i in range(len(data) - window_size - 1):\n",
    "        X.append(data[i:i+window_size])\n",
    "        y.append(labels[i+window_size])\n",
    "    return np.array(X), np.array(y)\n",
    "\n",
    "window_size = 20\n",
    "X, y = create_sliding_dataset(data_scaled, labels, window_size)\n",
    "X = X.reshape((X.shape[0], X.shape[1], 1))\n",
    "y_cat = to_categorical(y, num_classes=3)"
   ]
  },
  {
   "cell_type": "code",
   "execution_count": 7,
   "id": "d1dae4bf-01f6-4211-b358-6885af2a1440",
   "metadata": {},
   "outputs": [],
   "source": [
    "# Split data\n",
    "X_train, X_test, y_train, y_test = train_test_split(X, y_cat, test_size=0.2, random_state=42)"
   ]
  },
  {
   "cell_type": "code",
   "execution_count": 8,
   "id": "86b2a738-f91b-47e9-918d-c35f99ba3476",
   "metadata": {},
   "outputs": [],
   "source": [
    "# ==========================================\n",
    "# 4. Optuna Tuning - Objective Function\n",
    "# ==========================================\n",
    "def build_and_train(trial):\n",
    "    model = Sequential()\n",
    "    units = trial.suggest_int('units', 32, 128)\n",
    "    lr = trial.suggest_float('lr', 1e-4, 1e-2, log=True)\n",
    "\n",
    "    model.add(LSTM(units, activation='relu', input_shape=(window_size, 1)))\n",
    "    model.add(Dense(3, activation='softmax'))\n",
    "    model.compile(optimizer='adam', loss='categorical_crossentropy', metrics=['accuracy'])\n",
    "\n",
    "    batch_size = trial.suggest_categorical('batch_size', [16, 32])\n",
    "    epochs = trial.suggest_int('epochs', 10, 50)\n",
    "\n",
    "    history = model.fit(X_train, y_train, epochs=epochs, batch_size=batch_size, verbose=0, validation_split=0.2)\n",
    "    val_acc = history.history['val_accuracy'][-1]\n",
    "    return val_acc"
   ]
  },
  {
   "cell_type": "code",
   "execution_count": 9,
   "id": "70670db8-bea0-4fc1-bf35-391323112d99",
   "metadata": {},
   "outputs": [
    {
     "name": "stderr",
     "output_type": "stream",
     "text": [
      "[I 2025-06-13 18:05:46,709] A new study created in memory with name: no-name-61d276be-a067-4628-968d-6e8ef00423c6\n",
      "C:\\Users\\LENOVO\\AppData\\Local\\Programs\\Python\\Python310\\lib\\site-packages\\keras\\src\\layers\\rnn\\rnn.py:200: UserWarning: Do not pass an `input_shape`/`input_dim` argument to a layer. When using Sequential models, prefer using an `Input(shape)` object as the first layer in the model instead.\n",
      "  super().__init__(**kwargs)\n",
      "[I 2025-06-13 18:05:59,457] Trial 0 finished with value: 0.27346938848495483 and parameters: {'units': 68, 'lr': 0.007969454818643935, 'batch_size': 16, 'epochs': 16}. Best is trial 0 with value: 0.27346938848495483.\n",
      "[W 2025-06-13 18:05:59,526] The parameter 'batch_size' in trial#1 is sampled independently by using `RandomSampler` instead of `CmaEsSampler` (optimization performance may be degraded). `CmaEsSampler` does not support dynamic search space or `CategoricalDistribution`. You can suppress this warning by setting `warn_independent_sampling` to `False` in the constructor of `CmaEsSampler`, if this independent sampling is intended behavior.\n",
      "[I 2025-06-13 18:06:18,834] Trial 1 finished with value: 0.27346938848495483 and parameters: {'units': 57, 'lr': 0.0005404052553935483, 'batch_size': 16, 'epochs': 29}. Best is trial 0 with value: 0.27346938848495483.\n",
      "[W 2025-06-13 18:06:18,892] The parameter 'batch_size' in trial#2 is sampled independently by using `RandomSampler` instead of `CmaEsSampler` (optimization performance may be degraded). `CmaEsSampler` does not support dynamic search space or `CategoricalDistribution`. You can suppress this warning by setting `warn_independent_sampling` to `False` in the constructor of `CmaEsSampler`, if this independent sampling is intended behavior.\n",
      "[I 2025-06-13 18:06:38,908] Trial 2 finished with value: 0.2897959053516388 and parameters: {'units': 58, 'lr': 0.0004843830630951302, 'batch_size': 16, 'epochs': 30}. Best is trial 2 with value: 0.2897959053516388.\n",
      "[W 2025-06-13 18:06:38,961] The parameter 'batch_size' in trial#3 is sampled independently by using `RandomSampler` instead of `CmaEsSampler` (optimization performance may be degraded). `CmaEsSampler` does not support dynamic search space or `CategoricalDistribution`. You can suppress this warning by setting `warn_independent_sampling` to `False` in the constructor of `CmaEsSampler`, if this independent sampling is intended behavior.\n",
      "[I 2025-06-13 18:07:05,700] Trial 3 finished with value: 0.27346938848495483 and parameters: {'units': 78, 'lr': 0.001284803071084827, 'batch_size': 16, 'epochs': 39}. Best is trial 2 with value: 0.2897959053516388.\n",
      "[W 2025-06-13 18:07:05,746] The parameter 'batch_size' in trial#4 is sampled independently by using `RandomSampler` instead of `CmaEsSampler` (optimization performance may be degraded). `CmaEsSampler` does not support dynamic search space or `CategoricalDistribution`. You can suppress this warning by setting `warn_independent_sampling` to `False` in the constructor of `CmaEsSampler`, if this independent sampling is intended behavior.\n",
      "[I 2025-06-13 18:07:14,354] Trial 4 finished with value: 0.27346938848495483 and parameters: {'units': 71, 'lr': 0.0010997756098965073, 'batch_size': 16, 'epochs': 10}. Best is trial 2 with value: 0.2897959053516388.\n",
      "[W 2025-06-13 18:07:14,413] The parameter 'batch_size' in trial#5 is sampled independently by using `RandomSampler` instead of `CmaEsSampler` (optimization performance may be degraded). `CmaEsSampler` does not support dynamic search space or `CategoricalDistribution`. You can suppress this warning by setting `warn_independent_sampling` to `False` in the constructor of `CmaEsSampler`, if this independent sampling is intended behavior.\n",
      "[I 2025-06-13 18:07:43,401] Trial 5 finished with value: 0.29795917868614197 and parameters: {'units': 102, 'lr': 0.00037679762657228646, 'batch_size': 16, 'epochs': 36}. Best is trial 5 with value: 0.29795917868614197.\n",
      "[W 2025-06-13 18:07:43,463] The parameter 'batch_size' in trial#6 is sampled independently by using `RandomSampler` instead of `CmaEsSampler` (optimization performance may be degraded). `CmaEsSampler` does not support dynamic search space or `CategoricalDistribution`. You can suppress this warning by setting `warn_independent_sampling` to `False` in the constructor of `CmaEsSampler`, if this independent sampling is intended behavior.\n",
      "[I 2025-06-13 18:08:01,428] Trial 6 finished with value: 0.26938775181770325 and parameters: {'units': 76, 'lr': 0.00045488589409482236, 'batch_size': 32, 'epochs': 38}. Best is trial 5 with value: 0.29795917868614197.\n",
      "[W 2025-06-13 18:08:01,482] The parameter 'batch_size' in trial#7 is sampled independently by using `RandomSampler` instead of `CmaEsSampler` (optimization performance may be degraded). `CmaEsSampler` does not support dynamic search space or `CategoricalDistribution`. You can suppress this warning by setting `warn_independent_sampling` to `False` in the constructor of `CmaEsSampler`, if this independent sampling is intended behavior.\n",
      "[I 2025-06-13 18:08:25,433] Trial 7 finished with value: 0.2857142984867096 and parameters: {'units': 67, 'lr': 0.00039738988185359975, 'batch_size': 16, 'epochs': 36}. Best is trial 5 with value: 0.29795917868614197.\n",
      "[W 2025-06-13 18:08:25,494] The parameter 'batch_size' in trial#8 is sampled independently by using `RandomSampler` instead of `CmaEsSampler` (optimization performance may be degraded). `CmaEsSampler` does not support dynamic search space or `CategoricalDistribution`. You can suppress this warning by setting `warn_independent_sampling` to `False` in the constructor of `CmaEsSampler`, if this independent sampling is intended behavior.\n",
      "[I 2025-06-13 18:08:46,963] Trial 8 finished with value: 0.281632661819458 and parameters: {'units': 79, 'lr': 0.0001139784340313854, 'batch_size': 32, 'epochs': 44}. Best is trial 5 with value: 0.29795917868614197.\n",
      "[W 2025-06-13 18:08:47,016] The parameter 'batch_size' in trial#9 is sampled independently by using `RandomSampler` instead of `CmaEsSampler` (optimization performance may be degraded). `CmaEsSampler` does not support dynamic search space or `CategoricalDistribution`. You can suppress this warning by setting `warn_independent_sampling` to `False` in the constructor of `CmaEsSampler`, if this independent sampling is intended behavior.\n",
      "[I 2025-06-13 18:09:06,932] Trial 9 finished with value: 0.27346938848495483 and parameters: {'units': 91, 'lr': 0.0004594590946447057, 'batch_size': 32, 'epochs': 36}. Best is trial 5 with value: 0.29795917868614197.\n",
      "[W 2025-06-13 18:09:07,001] The parameter 'batch_size' in trial#10 is sampled independently by using `RandomSampler` instead of `CmaEsSampler` (optimization performance may be degraded). `CmaEsSampler` does not support dynamic search space or `CategoricalDistribution`. You can suppress this warning by setting `warn_independent_sampling` to `False` in the constructor of `CmaEsSampler`, if this independent sampling is intended behavior.\n",
      "[I 2025-06-13 18:09:24,465] Trial 10 finished with value: 0.2775510251522064 and parameters: {'units': 94, 'lr': 0.0007970115009492068, 'batch_size': 32, 'epochs': 33}. Best is trial 5 with value: 0.29795917868614197.\n",
      "[W 2025-06-13 18:09:24,518] The parameter 'batch_size' in trial#11 is sampled independently by using `RandomSampler` instead of `CmaEsSampler` (optimization performance may be degraded). `CmaEsSampler` does not support dynamic search space or `CategoricalDistribution`. You can suppress this warning by setting `warn_independent_sampling` to `False` in the constructor of `CmaEsSampler`, if this independent sampling is intended behavior.\n",
      "[I 2025-06-13 18:09:46,379] Trial 11 finished with value: 0.2775510251522064 and parameters: {'units': 82, 'lr': 0.00021022395788891586, 'batch_size': 16, 'epochs': 31}. Best is trial 5 with value: 0.29795917868614197.\n",
      "[W 2025-06-13 18:09:46,426] The parameter 'batch_size' in trial#12 is sampled independently by using `RandomSampler` instead of `CmaEsSampler` (optimization performance may be degraded). `CmaEsSampler` does not support dynamic search space or `CategoricalDistribution`. You can suppress this warning by setting `warn_independent_sampling` to `False` in the constructor of `CmaEsSampler`, if this independent sampling is intended behavior.\n",
      "[I 2025-06-13 18:10:02,399] Trial 12 finished with value: 0.27346938848495483 and parameters: {'units': 86, 'lr': 0.0004547799615237752, 'batch_size': 32, 'epochs': 30}. Best is trial 5 with value: 0.29795917868614197.\n",
      "[W 2025-06-13 18:10:02,468] The parameter 'batch_size' in trial#13 is sampled independently by using `RandomSampler` instead of `CmaEsSampler` (optimization performance may be degraded). `CmaEsSampler` does not support dynamic search space or `CategoricalDistribution`. You can suppress this warning by setting `warn_independent_sampling` to `False` in the constructor of `CmaEsSampler`, if this independent sampling is intended behavior.\n",
      "[I 2025-06-13 18:10:23,260] Trial 13 finished with value: 0.27346938848495483 and parameters: {'units': 115, 'lr': 0.00023221587940435597, 'batch_size': 32, 'epochs': 32}. Best is trial 5 with value: 0.29795917868614197.\n",
      "[W 2025-06-13 18:10:23,312] The parameter 'batch_size' in trial#14 is sampled independently by using `RandomSampler` instead of `CmaEsSampler` (optimization performance may be degraded). `CmaEsSampler` does not support dynamic search space or `CategoricalDistribution`. You can suppress this warning by setting `warn_independent_sampling` to `False` in the constructor of `CmaEsSampler`, if this independent sampling is intended behavior.\n",
      "[I 2025-06-13 18:10:38,850] Trial 14 finished with value: 0.2938775420188904 and parameters: {'units': 59, 'lr': 0.0005158231604720006, 'batch_size': 16, 'epochs': 22}. Best is trial 5 with value: 0.29795917868614197.\n",
      "[W 2025-06-13 18:10:38,903] The parameter 'batch_size' in trial#15 is sampled independently by using `RandomSampler` instead of `CmaEsSampler` (optimization performance may be degraded). `CmaEsSampler` does not support dynamic search space or `CategoricalDistribution`. You can suppress this warning by setting `warn_independent_sampling` to `False` in the constructor of `CmaEsSampler`, if this independent sampling is intended behavior.\n",
      "[I 2025-06-13 18:10:54,106] Trial 15 finished with value: 0.27346938848495483 and parameters: {'units': 78, 'lr': 0.000999883800174484, 'batch_size': 32, 'epochs': 31}. Best is trial 5 with value: 0.29795917868614197.\n",
      "[W 2025-06-13 18:10:54,144] The parameter 'batch_size' in trial#16 is sampled independently by using `RandomSampler` instead of `CmaEsSampler` (optimization performance may be degraded). `CmaEsSampler` does not support dynamic search space or `CategoricalDistribution`. You can suppress this warning by setting `warn_independent_sampling` to `False` in the constructor of `CmaEsSampler`, if this independent sampling is intended behavior.\n",
      "[I 2025-06-13 18:11:10,780] Trial 16 finished with value: 0.31020408868789673 and parameters: {'units': 53, 'lr': 0.0004557846701776876, 'batch_size': 16, 'epochs': 26}. Best is trial 16 with value: 0.31020408868789673.\n",
      "[W 2025-06-13 18:11:10,818] The parameter 'batch_size' in trial#17 is sampled independently by using `RandomSampler` instead of `CmaEsSampler` (optimization performance may be degraded). `CmaEsSampler` does not support dynamic search space or `CategoricalDistribution`. You can suppress this warning by setting `warn_independent_sampling` to `False` in the constructor of `CmaEsSampler`, if this independent sampling is intended behavior.\n",
      "[I 2025-06-13 18:11:22,850] Trial 17 finished with value: 0.27346938848495483 and parameters: {'units': 57, 'lr': 0.00023589692695397346, 'batch_size': 32, 'epochs': 26}. Best is trial 16 with value: 0.31020408868789673.\n",
      "[W 2025-06-13 18:11:22,897] The parameter 'batch_size' in trial#18 is sampled independently by using `RandomSampler` instead of `CmaEsSampler` (optimization performance may be degraded). `CmaEsSampler` does not support dynamic search space or `CategoricalDistribution`. You can suppress this warning by setting `warn_independent_sampling` to `False` in the constructor of `CmaEsSampler`, if this independent sampling is intended behavior.\n",
      "[I 2025-06-13 18:11:42,752] Trial 18 finished with value: 0.30204081535339355 and parameters: {'units': 47, 'lr': 0.0001387928888484062, 'batch_size': 16, 'epochs': 32}. Best is trial 16 with value: 0.31020408868789673.\n",
      "[W 2025-06-13 18:11:42,790] The parameter 'batch_size' in trial#19 is sampled independently by using `RandomSampler` instead of `CmaEsSampler` (optimization performance may be degraded). `CmaEsSampler` does not support dynamic search space or `CategoricalDistribution`. You can suppress this warning by setting `warn_independent_sampling` to `False` in the constructor of `CmaEsSampler`, if this independent sampling is intended behavior.\n",
      "[I 2025-06-13 18:12:11,869] Trial 19 finished with value: 0.27346938848495483 and parameters: {'units': 76, 'lr': 0.00011797038715403875, 'batch_size': 16, 'epochs': 34}. Best is trial 16 with value: 0.31020408868789673.\n"
     ]
    },
    {
     "name": "stdout",
     "output_type": "stream",
     "text": [
      "Best Parameters: {'units': 53, 'lr': 0.0004557846701776876, 'batch_size': 16, 'epochs': 26}\n"
     ]
    }
   ],
   "source": [
    "# ==========================================\n",
    "# 5. Jalankan Optuna dengan CMA-ES Sampler\n",
    "# ==========================================\n",
    "sampler = CmaEsSampler(seed=42)\n",
    "study = optuna.create_study(direction='maximize', sampler=sampler)\n",
    "study.optimize(build_and_train, n_trials=20)\n",
    "\n",
    "print(\"Best Parameters:\", study.best_params)"
   ]
  },
  {
   "cell_type": "code",
   "execution_count": 10,
   "id": "7d808676-a11f-4e19-ae59-e0cd05a27e97",
   "metadata": {},
   "outputs": [
    {
     "name": "stdout",
     "output_type": "stream",
     "text": [
      "Epoch 1/26\n",
      "\u001b[1m77/77\u001b[0m \u001b[32m━━━━━━━━━━━━━━━━━━━━\u001b[0m\u001b[37m\u001b[0m \u001b[1m2s\u001b[0m 8ms/step - accuracy: 0.3343 - loss: 1.0994 \n",
      "Epoch 2/26\n",
      "\u001b[1m77/77\u001b[0m \u001b[32m━━━━━━━━━━━━━━━━━━━━\u001b[0m\u001b[37m\u001b[0m \u001b[1m1s\u001b[0m 8ms/step - accuracy: 0.3023 - loss: 1.0998 \n",
      "Epoch 3/26\n",
      "\u001b[1m77/77\u001b[0m \u001b[32m━━━━━━━━━━━━━━━━━━━━\u001b[0m\u001b[37m\u001b[0m \u001b[1m1s\u001b[0m 8ms/step - accuracy: 0.3460 - loss: 1.0982 \n",
      "Epoch 4/26\n",
      "\u001b[1m77/77\u001b[0m \u001b[32m━━━━━━━━━━━━━━━━━━━━\u001b[0m\u001b[37m\u001b[0m \u001b[1m1s\u001b[0m 8ms/step - accuracy: 0.3324 - loss: 1.0990 \n",
      "Epoch 5/26\n",
      "\u001b[1m77/77\u001b[0m \u001b[32m━━━━━━━━━━━━━━━━━━━━\u001b[0m\u001b[37m\u001b[0m \u001b[1m1s\u001b[0m 8ms/step - accuracy: 0.3157 - loss: 1.0996 \n",
      "Epoch 6/26\n",
      "\u001b[1m77/77\u001b[0m \u001b[32m━━━━━━━━━━━━━━━━━━━━\u001b[0m\u001b[37m\u001b[0m \u001b[1m1s\u001b[0m 8ms/step - accuracy: 0.3218 - loss: 1.0992 \n",
      "Epoch 7/26\n",
      "\u001b[1m77/77\u001b[0m \u001b[32m━━━━━━━━━━━━━━━━━━━━\u001b[0m\u001b[37m\u001b[0m \u001b[1m1s\u001b[0m 8ms/step - accuracy: 0.3204 - loss: 1.0990 \n",
      "Epoch 8/26\n",
      "\u001b[1m77/77\u001b[0m \u001b[32m━━━━━━━━━━━━━━━━━━━━\u001b[0m\u001b[37m\u001b[0m \u001b[1m1s\u001b[0m 8ms/step - accuracy: 0.3547 - loss: 1.0975 \n",
      "Epoch 9/26\n",
      "\u001b[1m77/77\u001b[0m \u001b[32m━━━━━━━━━━━━━━━━━━━━\u001b[0m\u001b[37m\u001b[0m \u001b[1m1s\u001b[0m 8ms/step - accuracy: 0.3401 - loss: 1.0975 \n",
      "Epoch 10/26\n",
      "\u001b[1m77/77\u001b[0m \u001b[32m━━━━━━━━━━━━━━━━━━━━\u001b[0m\u001b[37m\u001b[0m \u001b[1m1s\u001b[0m 8ms/step - accuracy: 0.3308 - loss: 1.0988 \n",
      "Epoch 11/26\n",
      "\u001b[1m77/77\u001b[0m \u001b[32m━━━━━━━━━━━━━━━━━━━━\u001b[0m\u001b[37m\u001b[0m \u001b[1m1s\u001b[0m 8ms/step - accuracy: 0.3275 - loss: 1.0988 \n",
      "Epoch 12/26\n",
      "\u001b[1m77/77\u001b[0m \u001b[32m━━━━━━━━━━━━━━━━━━━━\u001b[0m\u001b[37m\u001b[0m \u001b[1m1s\u001b[0m 8ms/step - accuracy: 0.3275 - loss: 1.0994 \n",
      "Epoch 13/26\n",
      "\u001b[1m77/77\u001b[0m \u001b[32m━━━━━━━━━━━━━━━━━━━━\u001b[0m\u001b[37m\u001b[0m \u001b[1m1s\u001b[0m 8ms/step - accuracy: 0.3392 - loss: 1.0984 \n",
      "Epoch 14/26\n",
      "\u001b[1m77/77\u001b[0m \u001b[32m━━━━━━━━━━━━━━━━━━━━\u001b[0m\u001b[37m\u001b[0m \u001b[1m1s\u001b[0m 8ms/step - accuracy: 0.3344 - loss: 1.0986 \n",
      "Epoch 15/26\n",
      "\u001b[1m77/77\u001b[0m \u001b[32m━━━━━━━━━━━━━━━━━━━━\u001b[0m\u001b[37m\u001b[0m \u001b[1m1s\u001b[0m 8ms/step - accuracy: 0.3658 - loss: 1.0968 \n",
      "Epoch 16/26\n",
      "\u001b[1m77/77\u001b[0m \u001b[32m━━━━━━━━━━━━━━━━━━━━\u001b[0m\u001b[37m\u001b[0m \u001b[1m1s\u001b[0m 8ms/step - accuracy: 0.3046 - loss: 1.0992 \n",
      "Epoch 17/26\n",
      "\u001b[1m77/77\u001b[0m \u001b[32m━━━━━━━━━━━━━━━━━━━━\u001b[0m\u001b[37m\u001b[0m \u001b[1m1s\u001b[0m 8ms/step - accuracy: 0.3495 - loss: 1.0982 \n",
      "Epoch 18/26\n",
      "\u001b[1m77/77\u001b[0m \u001b[32m━━━━━━━━━━━━━━━━━━━━\u001b[0m\u001b[37m\u001b[0m \u001b[1m1s\u001b[0m 7ms/step - accuracy: 0.3356 - loss: 1.0985 \n",
      "Epoch 19/26\n",
      "\u001b[1m77/77\u001b[0m \u001b[32m━━━━━━━━━━━━━━━━━━━━\u001b[0m\u001b[37m\u001b[0m \u001b[1m1s\u001b[0m 8ms/step - accuracy: 0.3455 - loss: 1.0983 \n",
      "Epoch 20/26\n",
      "\u001b[1m77/77\u001b[0m \u001b[32m━━━━━━━━━━━━━━━━━━━━\u001b[0m\u001b[37m\u001b[0m \u001b[1m1s\u001b[0m 8ms/step - accuracy: 0.3220 - loss: 1.0986 \n",
      "Epoch 21/26\n",
      "\u001b[1m77/77\u001b[0m \u001b[32m━━━━━━━━━━━━━━━━━━━━\u001b[0m\u001b[37m\u001b[0m \u001b[1m1s\u001b[0m 8ms/step - accuracy: 0.3381 - loss: 1.0983 \n",
      "Epoch 22/26\n",
      "\u001b[1m77/77\u001b[0m \u001b[32m━━━━━━━━━━━━━━━━━━━━\u001b[0m\u001b[37m\u001b[0m \u001b[1m1s\u001b[0m 8ms/step - accuracy: 0.3384 - loss: 1.0991 \n",
      "Epoch 23/26\n",
      "\u001b[1m77/77\u001b[0m \u001b[32m━━━━━━━━━━━━━━━━━━━━\u001b[0m\u001b[37m\u001b[0m \u001b[1m1s\u001b[0m 7ms/step - accuracy: 0.3494 - loss: 1.0976 \n",
      "Epoch 24/26\n",
      "\u001b[1m77/77\u001b[0m \u001b[32m━━━━━━━━━━━━━━━━━━━━\u001b[0m\u001b[37m\u001b[0m \u001b[1m1s\u001b[0m 8ms/step - accuracy: 0.3508 - loss: 1.0970 \n",
      "Epoch 25/26\n",
      "\u001b[1m77/77\u001b[0m \u001b[32m━━━━━━━━━━━━━━━━━━━━\u001b[0m\u001b[37m\u001b[0m \u001b[1m1s\u001b[0m 8ms/step - accuracy: 0.3514 - loss: 1.0970 \n",
      "Epoch 26/26\n",
      "\u001b[1m77/77\u001b[0m \u001b[32m━━━━━━━━━━━━━━━━━━━━\u001b[0m\u001b[37m\u001b[0m \u001b[1m1s\u001b[0m 8ms/step - accuracy: 0.3461 - loss: 1.0983 \n"
     ]
    },
    {
     "data": {
      "text/plain": [
       "<keras.src.callbacks.history.History at 0x277124b2920>"
      ]
     },
     "execution_count": 10,
     "metadata": {},
     "output_type": "execute_result"
    }
   ],
   "source": [
    "# ==========================================\n",
    "# 6. Evaluasi dengan parameter terbaik\n",
    "# ==========================================\n",
    "best_params = study.best_params\n",
    "\n",
    "final_model = Sequential()\n",
    "final_model.add(LSTM(best_params['units'], activation='relu', input_shape=(window_size, 1)))\n",
    "final_model.add(Dense(3, activation='softmax'))\n",
    "final_model.compile(optimizer='adam', loss='categorical_crossentropy', metrics=['accuracy'])\n",
    "\n",
    "final_model.fit(X_train, y_train, epochs=best_params['epochs'], batch_size=best_params['batch_size'], verbose=1)\n"
   ]
  },
  {
   "cell_type": "code",
   "execution_count": 11,
   "id": "9c91317f-b8a2-4941-a710-f255cfed38bb",
   "metadata": {},
   "outputs": [
    {
     "name": "stdout",
     "output_type": "stream",
     "text": [
      "\u001b[1m10/10\u001b[0m \u001b[32m━━━━━━━━━━━━━━━━━━━━\u001b[0m\u001b[37m\u001b[0m \u001b[1m0s\u001b[0m 25ms/step \n"
     ]
    }
   ],
   "source": [
    "# Prediksi\n",
    "y_pred_prob = final_model.predict(X_test)\n",
    "y_pred = np.argmax(y_pred_prob, axis=1)\n",
    "y_true = np.argmax(y_test, axis=1)"
   ]
  },
  {
   "cell_type": "code",
   "execution_count": 12,
   "id": "52a57db0-2caf-4421-a441-7c259f5b0c66",
   "metadata": {},
   "outputs": [
    {
     "name": "stdout",
     "output_type": "stream",
     "text": [
      "\n",
      "Classification Report:\n",
      "               precision    recall  f1-score   support\n",
      "\n",
      "       Turun       0.00      0.00      0.00        84\n",
      "   Stasioner       0.35      0.48      0.40       121\n",
      "        Naik       0.31      0.43      0.36       101\n",
      "\n",
      "    accuracy                           0.33       306\n",
      "   macro avg       0.22      0.30      0.25       306\n",
      "weighted avg       0.24      0.33      0.28       306\n",
      "\n",
      "Akurasi: 0.3300653594771242\n"
     ]
    },
    {
     "name": "stderr",
     "output_type": "stream",
     "text": [
      "C:\\Users\\LENOVO\\AppData\\Local\\Programs\\Python\\Python310\\lib\\site-packages\\sklearn\\metrics\\_classification.py:1706: UndefinedMetricWarning: Precision is ill-defined and being set to 0.0 in labels with no predicted samples. Use `zero_division` parameter to control this behavior.\n",
      "  _warn_prf(average, modifier, f\"{metric.capitalize()} is\", result.shape[0])\n",
      "C:\\Users\\LENOVO\\AppData\\Local\\Programs\\Python\\Python310\\lib\\site-packages\\sklearn\\metrics\\_classification.py:1706: UndefinedMetricWarning: Precision is ill-defined and being set to 0.0 in labels with no predicted samples. Use `zero_division` parameter to control this behavior.\n",
      "  _warn_prf(average, modifier, f\"{metric.capitalize()} is\", result.shape[0])\n",
      "C:\\Users\\LENOVO\\AppData\\Local\\Programs\\Python\\Python310\\lib\\site-packages\\sklearn\\metrics\\_classification.py:1706: UndefinedMetricWarning: Precision is ill-defined and being set to 0.0 in labels with no predicted samples. Use `zero_division` parameter to control this behavior.\n",
      "  _warn_prf(average, modifier, f\"{metric.capitalize()} is\", result.shape[0])\n"
     ]
    }
   ],
   "source": [
    "# Report\n",
    "print(\"\\nClassification Report:\\n\", classification_report(y_true, y_pred, target_names=['Turun', 'Stasioner', 'Naik']))\n",
    "print(\"Akurasi:\", accuracy_score(y_true, y_pred))"
   ]
  },
  {
   "cell_type": "code",
   "execution_count": 13,
   "id": "dbd8b27e-ca74-4c38-88b4-c6870d3c56dd",
   "metadata": {},
   "outputs": [
    {
     "data": {
      "image/png": "[encoded data removed]",
      "text/plain": [
       "<Figure size 800x400 with 1 Axes>"
      ]
     },
     "metadata": {},
     "output_type": "display_data"
    }
   ],
   "source": [
    "# Visualisasi distribusi prediksi\n",
    "plt.figure(figsize=(8,4))\n",
    "plt.hist(y_pred, bins=3, rwidth=0.8, align='left')\n",
    "plt.xticks([0,1,2], ['Turun', 'Stasioner', 'Naik'])\n",
    "plt.title(\"Distribusi Hasil Prediksi\")\n",
    "plt.grid(True)\n",
    "plt.show()"
   ]
  }
 ],
 "metadata": {
  "kernelspec": {
   "display_name": "Python 3 (ipykernel)",
   "language": "python",
   "name": "python3"
  },
  "language_info": {
   "codemirror_mode": {
    "name": "ipython",
    "version": 3
   },
   "file_extension": ".py",
   "mimetype": "text/x-python",
   "name": "python",
   "nbconvert_exporter": "python",
   "pygments_lexer": "ipython3",
   "version": "3.10.10"
  }
 },
 "nbformat": 4,
 "nbformat_minor": 5
}
